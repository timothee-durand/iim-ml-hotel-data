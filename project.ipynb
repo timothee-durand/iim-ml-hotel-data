{
 "cells": [
  {
   "cell_type": "code",
   "execution_count": null,
   "id": "initial_id",
   "metadata": {
    "collapsed": true
   },
   "outputs": [],
   "source": [
    "import math\n",
    "import re\n",
    "import string\n",
    "\n",
    "import os\n",
    "\n",
    "os.environ['TF_CPP_MIN_LOG_LEVEL']='2'\n",
    "\n",
    "import nltk\n",
    "import pandas as pd\n",
    "from langdetect import detect\n",
    "from sklearn.feature_extraction.text import TfidfVectorizer\n",
    "from sklearn.model_selection import train_test_split\n",
    "from tensorflow.keras.layers import LSTM, Dense, Embedding\n",
    "from tensorflow.keras.models import Sequential"
   ]
  },
  {
   "cell_type": "code",
   "outputs": [],
   "source": [
    "#df1 = pd.read_csv(\"7282_1.csv\", sep=',')\n",
    "#df1.head(10)"
   ],
   "metadata": {
    "collapsed": false
   },
   "id": "cdc612512638788c",
   "execution_count": null
  },
  {
   "cell_type": "code",
   "outputs": [],
   "source": [
    "#df2 = pd.read_csv(\"Datafiniti_Hotel_Reviews.csv\", sep=',')\n",
    "#df2.head(10)"
   ],
   "metadata": {
    "collapsed": false
   },
   "id": "4d73c26d9efebe62",
   "execution_count": null
  },
  {
   "cell_type": "code",
   "outputs": [
    {
     "data": {
      "text/plain": "                     id             dateAdded           dateUpdated  \\\n0  AWE2FvX5RxPSIh2RscTK  2018-01-18T18:43:12Z  2019-05-20T23:55:47Z   \n1  AVwcj_OhkufWRAb5wi9T  2016-11-06T20:21:05Z  2019-05-20T23:31:56Z   \n2  AVwcj_OhkufWRAb5wi9T  2016-11-06T20:21:05Z  2019-05-20T23:31:56Z   \n3  AVwcj_OhkufWRAb5wi9T  2016-11-06T20:21:05Z  2019-05-20T23:31:56Z   \n4  AVwcj_OhkufWRAb5wi9T  2016-11-06T20:21:05Z  2019-05-20T23:31:56Z   \n5  AVweLARAByjofQCxv5vX  2016-05-16T22:39:30Z  2019-05-20T23:28:44Z   \n6  AVweLARAByjofQCxv5vX  2016-05-16T22:39:30Z  2019-05-20T23:28:44Z   \n7  AV1thAoL3-Khe5l_Ott5  2017-07-23T03:35:56Z  2019-05-20T23:28:32Z   \n8  AVz6h4Sb3D1zeR_xDHsu  2017-06-30T19:43:24Z  2019-05-20T23:27:06Z   \n9  AVwdo6WHByjofQCxrGaj  2016-11-02T17:23:39Z  2019-05-20T23:26:47Z   \n\n                          address  \\\n0                 5620 Calle Real   \n1  5th And San Carlos PO Box 3574   \n2  5th And San Carlos PO Box 3574   \n3  5th And San Carlos PO Box 3574   \n4  5th And San Carlos PO Box 3574   \n5                   167 W Main St   \n6                   167 W Main St   \n7          115 W Steve Wariner Dr   \n8             2240 Buena Vista Rd   \n9                  1107 N Main St   \n\n                                          categories  \\\n0  Hotels,Hotels and motels,Hotel and motel mgmt....   \n1                               Hotels,Lodging,Hotel   \n2                               Hotels,Lodging,Hotel   \n3                               Hotels,Lodging,Hotel   \n4                               Hotels,Lodging,Hotel   \n5         Hotels,Hotels and motels,Hotel,Restaurants   \n6         Hotels,Hotels and motels,Hotel,Restaurants   \n7                            Hotels and motels,Hotel   \n8  Budget Hotels,Hotels and motels,Hotel and mote...   \n9  Hotels,Bed Breakfasts,Bed & Breakfasts,Hotels ...   \n\n               primaryCategories               city country  \\\n0  Accommodation & Food Services             Goleta      US   \n1  Accommodation & Food Services  Carmel by the Sea      US   \n2  Accommodation & Food Services  Carmel by the Sea      US   \n3  Accommodation & Food Services  Carmel by the Sea      US   \n4  Accommodation & Food Services  Carmel by the Sea      US   \n5  Accommodation & Food Services          Lexington      US   \n6  Accommodation & Food Services          Lexington      US   \n7  Accommodation & Food Services    Russell Springs      US   \n8  Accommodation & Food Services          Lexington      US   \n9  Accommodation & Food Services       Hopkinsville      US   \n\n                                                keys   latitude  ...  \\\n0             us/ca/goleta/5620callereal/-1127060008  34.441780  ...   \n1  us/ca/carmelbythesea/5thandsancarlospobox3574/...  36.557220  ...   \n2  us/ca/carmelbythesea/5thandsancarlospobox3574/...  36.557220  ...   \n3  us/ca/carmelbythesea/5thandsancarlospobox3574/...  36.557220  ...   \n4  us/ca/carmelbythesea/5thandsancarlospobox3574/...  36.557220  ...   \n5             us/ky/lexington/167wmainst/-1165617038  38.047014  ...   \n6             us/ky/lexington/167wmainst/-1165617038  38.047014  ...   \n7  us/ky/russellsprings/115wstevewarinerdr/-41169...  37.065296  ...   \n8        us/ky/lexington/2240buenavistard/-659606824  38.042100  ...   \n9         us/ky/hopkinsville/1107nmainst/-1877262391  36.889000  ...   \n\n                                    reviews.dateSeen reviews.rating  \\\n0                               2018-01-03T00:00:00Z              3   \n1                               2016-10-09T00:00:00Z              4   \n2                               2016-10-09T00:00:00Z              3   \n3                               2016-10-31T00:00:00Z              5   \n4          2016-10-09T00:00:00Z,2016-03-27T00:00:00Z              2   \n5                               2016-03-19T00:00:00Z              4   \n6                               2016-05-10T00:00:00Z              1   \n7          2017-12-17T00:00:00Z,2017-07-13T00:00:00Z              1   \n8                               2017-06-26T00:00:00Z              5   \n9  2016-03-19T00:00:00Z,2016-05-10T00:00:00Z,2016...              1   \n\n                                  reviews.sourceURLs  \\\n0  https://www.tripadvisor.com/Hotel_Review-g3243...   \n1  https://www.tripadvisor.com/Hotel_Review-g3217...   \n2  https://www.tripadvisor.com/Hotel_Review-g3217...   \n3  https://www.tripadvisor.com/Hotel_Review-g3217...   \n4  https://www.tripadvisor.com/Hotel_Review-g3217...   \n5  http://www.tripadvisor.com/Hotel_Review-g39588...   \n6  https://www.tripadvisor.com/Hotel_Review-g3958...   \n7  https://www.tripadvisor.com/Hotel_Review-g3981...   \n8  https://www.tripadvisor.co.uk/Hotel_Review-g39...   \n9  https://www.tripadvisor.com/Hotel_Review-g3951...   \n\n                                        reviews.text  \\\n0  This hotel was nice and quiet. Did not know, t...   \n1  We stayed in the king suite with the separatio...   \n2  Parking was horrible, somebody ran into my ren...   \n3  Not cheap but excellent location. Price is som...   \n4  If you get the room that they advertised on th...   \n5  This is such a fun, lovely hotel. The attentio...   \n6  We recently stayed at this hotel on a trip to ...   \n7  I reserved a room a week in advance, knowing a...   \n8                                           MoreMore   \n9  Hello, I have traveled a lot and abroad and by...   \n\n                                       reviews.title  reviews.userCity  \\\n0                            Best Western Plus Hotel          San Jose   \n1  Clean rooms at solid rates in the heart of Carmel     San Francisco   \n2                                           Business   Prescott Valley   \n3                                          Very good          Guaynabo   \n4                       Low chance to come back here              Reno   \n5                                 Loved staying here         Nashville   \n6                 Does not live up to its reputation         Charlotte   \n7                        worst customer service ever        Hanceville   \n8                         Location Location Location    Jeffersonville   \n9                        The worst place i've booked            Lawton   \n\n  reviews.userProvince  reviews.username  \\\n0         UnitedStates      tatsurok2018   \n1                   CA         STEPHEN N   \n2                   AZ         15Deborah   \n3                   PR        Wilfredo M   \n4                   NV             Luc D   \n5                   TN        LKDiScenza   \n6                   NC     GGTravels2016   \n7              Alabama    madaramapquest   \n8              Indiana         IUMIKECOO   \n9                   OK        johnnytuba   \n\n                                          sourceURLs  \\\n0  https://www.tripadvisor.com/Hotel_Review-g3243...   \n1  http://www.tripadvisor.com/Hotel_Review-g32172...   \n2  http://www.tripadvisor.com/Hotel_Review-g32172...   \n3  http://www.tripadvisor.com/Hotel_Review-g32172...   \n4  http://www.tripadvisor.com/Hotel_Review-g32172...   \n5  https://www.tripadvisor.com/Hotel_Review-g3958...   \n6  https://www.tripadvisor.com/Hotel_Review-g3958...   \n7  https://www.tripadvisor.com/Hotel_Review-g3981...   \n8  https://www.yellowbook.com/profile/microtel-in...   \n9  http://www.citysearch.com/profile/4378740/hopk...   \n\n                                            websites  \n0  https://www.bestwestern.com/en_US/book/hotel-r...  \n1                         http://www.bestwestern.com  \n2                         http://www.bestwestern.com  \n3                         http://www.bestwestern.com  \n4                         http://www.bestwestern.com  \n5  http://www.firstnational.com/,https://www.21cm...  \n6  http://www.firstnational.com/,https://www.21cm...  \n7  http://www.springsmotelky.com/,http://www.spri...  \n8  https://www.wyndhamhotels.com,https://www.wynd...  \n9                          http://www.americinn.com/  \n\n[10 rows x 26 columns]",
      "text/html": "<div>\n<style scoped>\n    .dataframe tbody tr th:only-of-type {\n        vertical-align: middle;\n    }\n\n    .dataframe tbody tr th {\n        vertical-align: top;\n    }\n\n    .dataframe thead th {\n        text-align: right;\n    }\n</style>\n<table border=\"1\" class=\"dataframe\">\n  <thead>\n    <tr style=\"text-align: right;\">\n      <th></th>\n      <th>id</th>\n      <th>dateAdded</th>\n      <th>dateUpdated</th>\n      <th>address</th>\n      <th>categories</th>\n      <th>primaryCategories</th>\n      <th>city</th>\n      <th>country</th>\n      <th>keys</th>\n      <th>latitude</th>\n      <th>...</th>\n      <th>reviews.dateSeen</th>\n      <th>reviews.rating</th>\n      <th>reviews.sourceURLs</th>\n      <th>reviews.text</th>\n      <th>reviews.title</th>\n      <th>reviews.userCity</th>\n      <th>reviews.userProvince</th>\n      <th>reviews.username</th>\n      <th>sourceURLs</th>\n      <th>websites</th>\n    </tr>\n  </thead>\n  <tbody>\n    <tr>\n      <th>0</th>\n      <td>AWE2FvX5RxPSIh2RscTK</td>\n      <td>2018-01-18T18:43:12Z</td>\n      <td>2019-05-20T23:55:47Z</td>\n      <td>5620 Calle Real</td>\n      <td>Hotels,Hotels and motels,Hotel and motel mgmt....</td>\n      <td>Accommodation &amp; Food Services</td>\n      <td>Goleta</td>\n      <td>US</td>\n      <td>us/ca/goleta/5620callereal/-1127060008</td>\n      <td>34.441780</td>\n      <td>...</td>\n      <td>2018-01-03T00:00:00Z</td>\n      <td>3</td>\n      <td>https://www.tripadvisor.com/Hotel_Review-g3243...</td>\n      <td>This hotel was nice and quiet. Did not know, t...</td>\n      <td>Best Western Plus Hotel</td>\n      <td>San Jose</td>\n      <td>UnitedStates</td>\n      <td>tatsurok2018</td>\n      <td>https://www.tripadvisor.com/Hotel_Review-g3243...</td>\n      <td>https://www.bestwestern.com/en_US/book/hotel-r...</td>\n    </tr>\n    <tr>\n      <th>1</th>\n      <td>AVwcj_OhkufWRAb5wi9T</td>\n      <td>2016-11-06T20:21:05Z</td>\n      <td>2019-05-20T23:31:56Z</td>\n      <td>5th And San Carlos PO Box 3574</td>\n      <td>Hotels,Lodging,Hotel</td>\n      <td>Accommodation &amp; Food Services</td>\n      <td>Carmel by the Sea</td>\n      <td>US</td>\n      <td>us/ca/carmelbythesea/5thandsancarlospobox3574/...</td>\n      <td>36.557220</td>\n      <td>...</td>\n      <td>2016-10-09T00:00:00Z</td>\n      <td>4</td>\n      <td>https://www.tripadvisor.com/Hotel_Review-g3217...</td>\n      <td>We stayed in the king suite with the separatio...</td>\n      <td>Clean rooms at solid rates in the heart of Carmel</td>\n      <td>San Francisco</td>\n      <td>CA</td>\n      <td>STEPHEN N</td>\n      <td>http://www.tripadvisor.com/Hotel_Review-g32172...</td>\n      <td>http://www.bestwestern.com</td>\n    </tr>\n    <tr>\n      <th>2</th>\n      <td>AVwcj_OhkufWRAb5wi9T</td>\n      <td>2016-11-06T20:21:05Z</td>\n      <td>2019-05-20T23:31:56Z</td>\n      <td>5th And San Carlos PO Box 3574</td>\n      <td>Hotels,Lodging,Hotel</td>\n      <td>Accommodation &amp; Food Services</td>\n      <td>Carmel by the Sea</td>\n      <td>US</td>\n      <td>us/ca/carmelbythesea/5thandsancarlospobox3574/...</td>\n      <td>36.557220</td>\n      <td>...</td>\n      <td>2016-10-09T00:00:00Z</td>\n      <td>3</td>\n      <td>https://www.tripadvisor.com/Hotel_Review-g3217...</td>\n      <td>Parking was horrible, somebody ran into my ren...</td>\n      <td>Business</td>\n      <td>Prescott Valley</td>\n      <td>AZ</td>\n      <td>15Deborah</td>\n      <td>http://www.tripadvisor.com/Hotel_Review-g32172...</td>\n      <td>http://www.bestwestern.com</td>\n    </tr>\n    <tr>\n      <th>3</th>\n      <td>AVwcj_OhkufWRAb5wi9T</td>\n      <td>2016-11-06T20:21:05Z</td>\n      <td>2019-05-20T23:31:56Z</td>\n      <td>5th And San Carlos PO Box 3574</td>\n      <td>Hotels,Lodging,Hotel</td>\n      <td>Accommodation &amp; Food Services</td>\n      <td>Carmel by the Sea</td>\n      <td>US</td>\n      <td>us/ca/carmelbythesea/5thandsancarlospobox3574/...</td>\n      <td>36.557220</td>\n      <td>...</td>\n      <td>2016-10-31T00:00:00Z</td>\n      <td>5</td>\n      <td>https://www.tripadvisor.com/Hotel_Review-g3217...</td>\n      <td>Not cheap but excellent location. Price is som...</td>\n      <td>Very good</td>\n      <td>Guaynabo</td>\n      <td>PR</td>\n      <td>Wilfredo M</td>\n      <td>http://www.tripadvisor.com/Hotel_Review-g32172...</td>\n      <td>http://www.bestwestern.com</td>\n    </tr>\n    <tr>\n      <th>4</th>\n      <td>AVwcj_OhkufWRAb5wi9T</td>\n      <td>2016-11-06T20:21:05Z</td>\n      <td>2019-05-20T23:31:56Z</td>\n      <td>5th And San Carlos PO Box 3574</td>\n      <td>Hotels,Lodging,Hotel</td>\n      <td>Accommodation &amp; Food Services</td>\n      <td>Carmel by the Sea</td>\n      <td>US</td>\n      <td>us/ca/carmelbythesea/5thandsancarlospobox3574/...</td>\n      <td>36.557220</td>\n      <td>...</td>\n      <td>2016-10-09T00:00:00Z,2016-03-27T00:00:00Z</td>\n      <td>2</td>\n      <td>https://www.tripadvisor.com/Hotel_Review-g3217...</td>\n      <td>If you get the room that they advertised on th...</td>\n      <td>Low chance to come back here</td>\n      <td>Reno</td>\n      <td>NV</td>\n      <td>Luc D</td>\n      <td>http://www.tripadvisor.com/Hotel_Review-g32172...</td>\n      <td>http://www.bestwestern.com</td>\n    </tr>\n    <tr>\n      <th>5</th>\n      <td>AVweLARAByjofQCxv5vX</td>\n      <td>2016-05-16T22:39:30Z</td>\n      <td>2019-05-20T23:28:44Z</td>\n      <td>167 W Main St</td>\n      <td>Hotels,Hotels and motels,Hotel,Restaurants</td>\n      <td>Accommodation &amp; Food Services</td>\n      <td>Lexington</td>\n      <td>US</td>\n      <td>us/ky/lexington/167wmainst/-1165617038</td>\n      <td>38.047014</td>\n      <td>...</td>\n      <td>2016-03-19T00:00:00Z</td>\n      <td>4</td>\n      <td>http://www.tripadvisor.com/Hotel_Review-g39588...</td>\n      <td>This is such a fun, lovely hotel. The attentio...</td>\n      <td>Loved staying here</td>\n      <td>Nashville</td>\n      <td>TN</td>\n      <td>LKDiScenza</td>\n      <td>https://www.tripadvisor.com/Hotel_Review-g3958...</td>\n      <td>http://www.firstnational.com/,https://www.21cm...</td>\n    </tr>\n    <tr>\n      <th>6</th>\n      <td>AVweLARAByjofQCxv5vX</td>\n      <td>2016-05-16T22:39:30Z</td>\n      <td>2019-05-20T23:28:44Z</td>\n      <td>167 W Main St</td>\n      <td>Hotels,Hotels and motels,Hotel,Restaurants</td>\n      <td>Accommodation &amp; Food Services</td>\n      <td>Lexington</td>\n      <td>US</td>\n      <td>us/ky/lexington/167wmainst/-1165617038</td>\n      <td>38.047014</td>\n      <td>...</td>\n      <td>2016-05-10T00:00:00Z</td>\n      <td>1</td>\n      <td>https://www.tripadvisor.com/Hotel_Review-g3958...</td>\n      <td>We recently stayed at this hotel on a trip to ...</td>\n      <td>Does not live up to its reputation</td>\n      <td>Charlotte</td>\n      <td>NC</td>\n      <td>GGTravels2016</td>\n      <td>https://www.tripadvisor.com/Hotel_Review-g3958...</td>\n      <td>http://www.firstnational.com/,https://www.21cm...</td>\n    </tr>\n    <tr>\n      <th>7</th>\n      <td>AV1thAoL3-Khe5l_Ott5</td>\n      <td>2017-07-23T03:35:56Z</td>\n      <td>2019-05-20T23:28:32Z</td>\n      <td>115 W Steve Wariner Dr</td>\n      <td>Hotels and motels,Hotel</td>\n      <td>Accommodation &amp; Food Services</td>\n      <td>Russell Springs</td>\n      <td>US</td>\n      <td>us/ky/russellsprings/115wstevewarinerdr/-41169...</td>\n      <td>37.065296</td>\n      <td>...</td>\n      <td>2017-12-17T00:00:00Z,2017-07-13T00:00:00Z</td>\n      <td>1</td>\n      <td>https://www.tripadvisor.com/Hotel_Review-g3981...</td>\n      <td>I reserved a room a week in advance, knowing a...</td>\n      <td>worst customer service ever</td>\n      <td>Hanceville</td>\n      <td>Alabama</td>\n      <td>madaramapquest</td>\n      <td>https://www.tripadvisor.com/Hotel_Review-g3981...</td>\n      <td>http://www.springsmotelky.com/,http://www.spri...</td>\n    </tr>\n    <tr>\n      <th>8</th>\n      <td>AVz6h4Sb3D1zeR_xDHsu</td>\n      <td>2017-06-30T19:43:24Z</td>\n      <td>2019-05-20T23:27:06Z</td>\n      <td>2240 Buena Vista Rd</td>\n      <td>Budget Hotels,Hotels and motels,Hotel and mote...</td>\n      <td>Accommodation &amp; Food Services</td>\n      <td>Lexington</td>\n      <td>US</td>\n      <td>us/ky/lexington/2240buenavistard/-659606824</td>\n      <td>38.042100</td>\n      <td>...</td>\n      <td>2017-06-26T00:00:00Z</td>\n      <td>5</td>\n      <td>https://www.tripadvisor.co.uk/Hotel_Review-g39...</td>\n      <td>MoreMore</td>\n      <td>Location Location Location</td>\n      <td>Jeffersonville</td>\n      <td>Indiana</td>\n      <td>IUMIKECOO</td>\n      <td>https://www.yellowbook.com/profile/microtel-in...</td>\n      <td>https://www.wyndhamhotels.com,https://www.wynd...</td>\n    </tr>\n    <tr>\n      <th>9</th>\n      <td>AVwdo6WHByjofQCxrGaj</td>\n      <td>2016-11-02T17:23:39Z</td>\n      <td>2019-05-20T23:26:47Z</td>\n      <td>1107 N Main St</td>\n      <td>Hotels,Bed Breakfasts,Bed &amp; Breakfasts,Hotels ...</td>\n      <td>Accommodation &amp; Food Services</td>\n      <td>Hopkinsville</td>\n      <td>US</td>\n      <td>us/ky/hopkinsville/1107nmainst/-1877262391</td>\n      <td>36.889000</td>\n      <td>...</td>\n      <td>2016-03-19T00:00:00Z,2016-05-10T00:00:00Z,2016...</td>\n      <td>1</td>\n      <td>https://www.tripadvisor.com/Hotel_Review-g3951...</td>\n      <td>Hello, I have traveled a lot and abroad and by...</td>\n      <td>The worst place i've booked</td>\n      <td>Lawton</td>\n      <td>OK</td>\n      <td>johnnytuba</td>\n      <td>http://www.citysearch.com/profile/4378740/hopk...</td>\n      <td>http://www.americinn.com/</td>\n    </tr>\n  </tbody>\n</table>\n<p>10 rows × 26 columns</p>\n</div>"
     },
     "execution_count": 47,
     "metadata": {},
     "output_type": "execute_result"
    }
   ],
   "source": [
    "df = pd.read_csv(\"Datafiniti_Hotel_Reviews_Jun19.csv\", sep=',')\n",
    "df.head(10)"
   ],
   "metadata": {
    "collapsed": false,
    "ExecuteTime": {
     "end_time": "2024-02-29T09:55:09.242020Z",
     "start_time": "2024-02-29T09:55:08.632772Z"
    }
   },
   "id": "28a2ff85c7c6d346",
   "execution_count": 47
  },
  {
   "cell_type": "code",
   "outputs": [
    {
     "data": {
      "text/plain": "(10000, 3)"
     },
     "execution_count": 48,
     "metadata": {},
     "output_type": "execute_result"
    }
   ],
   "source": [
    "df = df[['reviews.rating', 'reviews.text', 'reviews.title']]\n",
    "df['reviews.text'] = df['reviews.title'] + \" \" + df['reviews.text']\n",
    "df.shape"
   ],
   "metadata": {
    "collapsed": false,
    "ExecuteTime": {
     "end_time": "2024-02-29T09:55:10.817331Z",
     "start_time": "2024-02-29T09:55:10.805230Z"
    }
   },
   "id": "d7ae30114cf2647b",
   "execution_count": 48
  },
  {
   "cell_type": "code",
   "outputs": [
    {
     "data": {
      "text/plain": "(9786, 3)"
     },
     "execution_count": 49,
     "metadata": {},
     "output_type": "execute_result"
    }
   ],
   "source": [
    "df = df.drop_duplicates()\n",
    "df = df.dropna()\n",
    "df.shape"
   ],
   "metadata": {
    "collapsed": false,
    "ExecuteTime": {
     "end_time": "2024-02-29T09:55:14.535437Z",
     "start_time": "2024-02-29T09:55:14.530276Z"
    }
   },
   "id": "56cc2987599f0fc6",
   "execution_count": 49
  },
  {
   "cell_type": "code",
   "outputs": [],
   "source": [
    "import matplotlib.pyplot as plt\n",
    "\n",
    "def detect_lang(text):\n",
    "    try:\n",
    "        return detect(text)\n",
    "    except:\n",
    "        return \"error\"\n",
    "\n",
    "\n",
    "df['lang'] = df['reviews.text'].apply(lambda x: detect_lang(x))"
   ],
   "metadata": {
    "collapsed": false,
    "ExecuteTime": {
     "end_time": "2024-02-29T09:55:31.464281Z",
     "start_time": "2024-02-29T09:55:16.542808Z"
    }
   },
   "id": "3e598cbc71d13336",
   "execution_count": 50
  },
  {
   "cell_type": "code",
   "outputs": [
    {
     "data": {
      "text/plain": "lang\nen    9770\nName: count, dtype: int64"
     },
     "execution_count": 51,
     "metadata": {},
     "output_type": "execute_result"
    }
   ],
   "source": [
    "df = df.loc[df['lang'] == 'en']\n",
    "df['lang'].value_counts()"
   ],
   "metadata": {
    "collapsed": false,
    "ExecuteTime": {
     "end_time": "2024-02-29T09:55:34.756572Z",
     "start_time": "2024-02-29T09:55:34.740785Z"
    }
   },
   "id": "f83f07c26da83d1e",
   "execution_count": 51
  },
  {
   "cell_type": "code",
   "outputs": [
    {
     "data": {
      "text/plain": "<Figure size 640x480 with 1 Axes>",
      "image/png": "[encoded data removed]"
     },
     "metadata": {},
     "output_type": "display_data"
    }
   ],
   "source": [
    "#afficher une courbe de distribution des notes\n",
    "df['reviews.rating'].hist()\n",
    "plt.show()"
   ],
   "metadata": {
    "collapsed": false,
    "ExecuteTime": {
     "end_time": "2024-02-29T09:55:38.988610Z",
     "start_time": "2024-02-29T09:55:38.928163Z"
    }
   },
   "id": "c5bffbfe93d5176c",
   "execution_count": 52
  },
  {
   "cell_type": "code",
   "outputs": [
    {
     "data": {
      "text/plain": "<Figure size 640x480 with 1 Axes>",
      "image/png": "[encoded data removed]"
     },
     "metadata": {},
     "output_type": "display_data"
    }
   ],
   "source": [
    "df['reviews.rating'] = df['reviews.rating'].apply(lambda x: x - 5 if x > 5 else x)\n",
    "df['reviews.rating'] = df['reviews.rating'].apply(lambda x: math.floor(x))\n",
    "df['reviews.rating'].hist()\n",
    "plt.show()"
   ],
   "metadata": {
    "collapsed": false,
    "ExecuteTime": {
     "end_time": "2024-02-29T09:55:41.372724Z",
     "start_time": "2024-02-29T09:55:41.315614Z"
    }
   },
   "id": "5e913dad6941d531",
   "execution_count": 53
  },
  {
   "cell_type": "code",
   "outputs": [
    {
     "data": {
      "text/plain": "reviews.rating\n5    4714\n4    2800\n3    1166\n1     555\n2     535\nName: count, dtype: int64"
     },
     "execution_count": 54,
     "metadata": {},
     "output_type": "execute_result"
    }
   ],
   "source": [
    "df['reviews.rating'].value_counts()"
   ],
   "metadata": {
    "collapsed": false,
    "ExecuteTime": {
     "end_time": "2024-02-29T09:55:43.637894Z",
     "start_time": "2024-02-29T09:55:43.634262Z"
    }
   },
   "id": "7aadb7a5ba87c530",
   "execution_count": 54
  },
  {
   "cell_type": "code",
   "outputs": [
    {
     "data": {
      "text/plain": "      reviews.rating                                       reviews.text  \\\n8954               5  Love this place We love this place, and we wil...   \n8712               5  My Alone Time With Hubby It was a great room, ...   \n4716               5  Clean and quiet Right off the highway this lit...   \n4713               5  So much better than the stril I come to Vegas ...   \n8709               5  Locale and Price is worth it. It is worth the ...   \n...              ...                                                ...   \n5330               1  Horrible breakfast, horrible customer service ...   \n1803               1  Black Mold in bathroom For a place just to sle...   \n3293               1  Awful! We were price gouged on a Saturday nigh...   \n4756               1  Bad Just not satisfied with the outdated room ...   \n4460               1  Not a fussy traveller... but would NEVER retur...   \n\n                                          reviews.title lang  \n8954                                    Love this place   en  \n8712                           My Alone Time With Hubby   en  \n4716                                    Clean and quiet   en  \n4713                      So much better than the stril   en  \n8709                      Locale and Price is worth it.   en  \n...                                                 ...  ...  \n5330      Horrible breakfast, horrible customer service   en  \n1803                             Black Mold in bathroom   en  \n3293                                             Awful!   en  \n4756                                                Bad   en  \n4460  Not a fussy traveller... but would NEVER retur...   en  \n\n[9770 rows x 4 columns]",
      "text/html": "<div>\n<style scoped>\n    .dataframe tbody tr th:only-of-type {\n        vertical-align: middle;\n    }\n\n    .dataframe tbody tr th {\n        vertical-align: top;\n    }\n\n    .dataframe thead th {\n        text-align: right;\n    }\n</style>\n<table border=\"1\" class=\"dataframe\">\n  <thead>\n    <tr style=\"text-align: right;\">\n      <th></th>\n      <th>reviews.rating</th>\n      <th>reviews.text</th>\n      <th>reviews.title</th>\n      <th>lang</th>\n    </tr>\n  </thead>\n  <tbody>\n    <tr>\n      <th>8954</th>\n      <td>5</td>\n      <td>Love this place We love this place, and we wil...</td>\n      <td>Love this place</td>\n      <td>en</td>\n    </tr>\n    <tr>\n      <th>8712</th>\n      <td>5</td>\n      <td>My Alone Time With Hubby It was a great room, ...</td>\n      <td>My Alone Time With Hubby</td>\n      <td>en</td>\n    </tr>\n    <tr>\n      <th>4716</th>\n      <td>5</td>\n      <td>Clean and quiet Right off the highway this lit...</td>\n      <td>Clean and quiet</td>\n      <td>en</td>\n    </tr>\n    <tr>\n      <th>4713</th>\n      <td>5</td>\n      <td>So much better than the stril I come to Vegas ...</td>\n      <td>So much better than the stril</td>\n      <td>en</td>\n    </tr>\n    <tr>\n      <th>8709</th>\n      <td>5</td>\n      <td>Locale and Price is worth it. It is worth the ...</td>\n      <td>Locale and Price is worth it.</td>\n      <td>en</td>\n    </tr>\n    <tr>\n      <th>...</th>\n      <td>...</td>\n      <td>...</td>\n      <td>...</td>\n      <td>...</td>\n    </tr>\n    <tr>\n      <th>5330</th>\n      <td>1</td>\n      <td>Horrible breakfast, horrible customer service ...</td>\n      <td>Horrible breakfast, horrible customer service</td>\n      <td>en</td>\n    </tr>\n    <tr>\n      <th>1803</th>\n      <td>1</td>\n      <td>Black Mold in bathroom For a place just to sle...</td>\n      <td>Black Mold in bathroom</td>\n      <td>en</td>\n    </tr>\n    <tr>\n      <th>3293</th>\n      <td>1</td>\n      <td>Awful! We were price gouged on a Saturday nigh...</td>\n      <td>Awful!</td>\n      <td>en</td>\n    </tr>\n    <tr>\n      <th>4756</th>\n      <td>1</td>\n      <td>Bad Just not satisfied with the outdated room ...</td>\n      <td>Bad</td>\n      <td>en</td>\n    </tr>\n    <tr>\n      <th>4460</th>\n      <td>1</td>\n      <td>Not a fussy traveller... but would NEVER retur...</td>\n      <td>Not a fussy traveller... but would NEVER retur...</td>\n      <td>en</td>\n    </tr>\n  </tbody>\n</table>\n<p>9770 rows × 4 columns</p>\n</div>"
     },
     "execution_count": 55,
     "metadata": {},
     "output_type": "execute_result"
    }
   ],
   "source": [
    "df.sort_values(by='reviews.rating', ascending=False)"
   ],
   "metadata": {
    "collapsed": false,
    "ExecuteTime": {
     "end_time": "2024-02-29T09:55:52.908798Z",
     "start_time": "2024-02-29T09:55:52.899794Z"
    }
   },
   "id": "656f6952047807ec",
   "execution_count": 55
  },
  {
   "cell_type": "code",
   "outputs": [
    {
     "name": "stderr",
     "output_type": "stream",
     "text": [
      "[nltk_data] Downloading package stopwords to\n",
      "[nltk_data]     /Users/timothee/nltk_data...\n",
      "[nltk_data]   Package stopwords is already up-to-date!\n"
     ]
    }
   ],
   "source": [
    "nltk.download('stopwords')\n",
    "en_stopwords = nltk.corpus.stopwords.words('english')\n",
    "ps = nltk.PorterStemmer()\n",
    "\n",
    "\n",
    "def clean_text(text):\n",
    "    result = \"\".join([word for word in text if word not in string.punctuation])\n",
    "    tokens = re.split('\\W+', result)\n",
    "    text = [ps.stem(word) for word in tokens if word not in en_stopwords]\n",
    "    return text"
   ],
   "metadata": {
    "collapsed": false,
    "ExecuteTime": {
     "end_time": "2024-02-29T09:55:55.783192Z",
     "start_time": "2024-02-29T09:55:55.760065Z"
    }
   },
   "id": "8f1e1ba4bf900521",
   "execution_count": 56
  },
  {
   "cell_type": "code",
   "outputs": [],
   "source": [
    "vectorisation_full = TfidfVectorizer(analyzer=clean_text)\n",
    "#vect final with title and text\n",
    "X = vectorisation_full.fit_transform(df['reviews.text'])"
   ],
   "metadata": {
    "collapsed": false,
    "ExecuteTime": {
     "end_time": "2024-02-29T09:56:04.501102Z",
     "start_time": "2024-02-29T09:55:58.751263Z"
    }
   },
   "id": "4d0d6fab639c1fdb",
   "execution_count": 57
  },
  {
   "cell_type": "code",
   "outputs": [
    {
     "data": {
      "text/plain": "0       3\n1       4\n2       3\n3       5\n4       2\n       ..\n9995    4\n9996    5\n9997    5\n9998    5\n9999    4\nName: reviews.rating, Length: 9770, dtype: int64"
     },
     "execution_count": 58,
     "metadata": {},
     "output_type": "execute_result"
    }
   ],
   "source": [
    "df['reviews.rating'].apply(lambda x: math.floor(x))"
   ],
   "metadata": {
    "collapsed": false,
    "ExecuteTime": {
     "end_time": "2024-02-29T09:56:08.375514Z",
     "start_time": "2024-02-29T09:56:08.372335Z"
    }
   },
   "id": "fbf178d79957a0c5",
   "execution_count": 58
  },
  {
   "cell_type": "code",
   "outputs": [
    {
     "data": {
      "text/plain": "      0      1      2      3      4      5      6      7      8      9      \\\n0       0.0    0.0    0.0    0.0    0.0    0.0    0.0    0.0    0.0    0.0   \n1       0.0    0.0    0.0    0.0    0.0    0.0    0.0    0.0    0.0    0.0   \n2       0.0    0.0    0.0    0.0    0.0    0.0    0.0    0.0    0.0    0.0   \n3       0.0    0.0    0.0    0.0    0.0    0.0    0.0    0.0    0.0    0.0   \n4       0.0    0.0    0.0    0.0    0.0    0.0    0.0    0.0    0.0    0.0   \n...     ...    ...    ...    ...    ...    ...    ...    ...    ...    ...   \n9765    0.0    0.0    0.0    0.0    0.0    0.0    0.0    0.0    0.0    0.0   \n9766    0.0    0.0    0.0    0.0    0.0    0.0    0.0    0.0    0.0    0.0   \n9767    0.0    0.0    0.0    0.0    0.0    0.0    0.0    0.0    0.0    0.0   \n9768    0.0    0.0    0.0    0.0    0.0    0.0    0.0    0.0    0.0    0.0   \n9769    0.0    0.0    0.0    0.0    0.0    0.0    0.0    0.0    0.0    0.0   \n\n      ...  25983  25984  25985  25986  25987  25988  25989  25990  25991  \\\n0     ...    0.0    0.0    0.0    0.0    0.0    0.0    0.0    0.0    0.0   \n1     ...    0.0    0.0    0.0    0.0    0.0    0.0    0.0    0.0    0.0   \n2     ...    0.0    0.0    0.0    0.0    0.0    0.0    0.0    0.0    0.0   \n3     ...    0.0    0.0    0.0    0.0    0.0    0.0    0.0    0.0    0.0   \n4     ...    0.0    0.0    0.0    0.0    0.0    0.0    0.0    0.0    0.0   \n...   ...    ...    ...    ...    ...    ...    ...    ...    ...    ...   \n9765  ...    0.0    0.0    0.0    0.0    0.0    0.0    0.0    0.0    0.0   \n9766  ...    0.0    0.0    0.0    0.0    0.0    0.0    0.0    0.0    0.0   \n9767  ...    0.0    0.0    0.0    0.0    0.0    0.0    0.0    0.0    0.0   \n9768  ...    0.0    0.0    0.0    0.0    0.0    0.0    0.0    0.0    0.0   \n9769  ...    0.0    0.0    0.0    0.0    0.0    0.0    0.0    0.0    0.0   \n\n      25992  \n0       0.0  \n1       0.0  \n2       0.0  \n3       0.0  \n4       0.0  \n...     ...  \n9765    0.0  \n9766    0.0  \n9767    0.0  \n9768    0.0  \n9769    0.0  \n\n[9770 rows x 25993 columns]",
      "text/html": "<div>\n<style scoped>\n    .dataframe tbody tr th:only-of-type {\n        vertical-align: middle;\n    }\n\n    .dataframe tbody tr th {\n        vertical-align: top;\n    }\n\n    .dataframe thead th {\n        text-align: right;\n    }\n</style>\n<table border=\"1\" class=\"dataframe\">\n  <thead>\n    <tr style=\"text-align: right;\">\n      <th></th>\n      <th>0</th>\n      <th>1</th>\n      <th>2</th>\n      <th>3</th>\n      <th>4</th>\n      <th>5</th>\n      <th>6</th>\n      <th>7</th>\n      <th>8</th>\n      <th>9</th>\n      <th>...</th>\n      <th>25983</th>\n      <th>25984</th>\n      <th>25985</th>\n      <th>25986</th>\n      <th>25987</th>\n      <th>25988</th>\n      <th>25989</th>\n      <th>25990</th>\n      <th>25991</th>\n      <th>25992</th>\n    </tr>\n  </thead>\n  <tbody>\n    <tr>\n      <th>0</th>\n      <td>0.0</td>\n      <td>0.0</td>\n      <td>0.0</td>\n      <td>0.0</td>\n      <td>0.0</td>\n      <td>0.0</td>\n      <td>0.0</td>\n      <td>0.0</td>\n      <td>0.0</td>\n      <td>0.0</td>\n      <td>...</td>\n      <td>0.0</td>\n      <td>0.0</td>\n      <td>0.0</td>\n      <td>0.0</td>\n      <td>0.0</td>\n      <td>0.0</td>\n      <td>0.0</td>\n      <td>0.0</td>\n      <td>0.0</td>\n      <td>0.0</td>\n    </tr>\n    <tr>\n      <th>1</th>\n      <td>0.0</td>\n      <td>0.0</td>\n      <td>0.0</td>\n      <td>0.0</td>\n      <td>0.0</td>\n      <td>0.0</td>\n      <td>0.0</td>\n      <td>0.0</td>\n      <td>0.0</td>\n      <td>0.0</td>\n      <td>...</td>\n      <td>0.0</td>\n      <td>0.0</td>\n      <td>0.0</td>\n      <td>0.0</td>\n      <td>0.0</td>\n      <td>0.0</td>\n      <td>0.0</td>\n      <td>0.0</td>\n      <td>0.0</td>\n      <td>0.0</td>\n    </tr>\n    <tr>\n      <th>2</th>\n      <td>0.0</td>\n      <td>0.0</td>\n      <td>0.0</td>\n      <td>0.0</td>\n      <td>0.0</td>\n      <td>0.0</td>\n      <td>0.0</td>\n      <td>0.0</td>\n      <td>0.0</td>\n      <td>0.0</td>\n      <td>...</td>\n      <td>0.0</td>\n      <td>0.0</td>\n      <td>0.0</td>\n      <td>0.0</td>\n      <td>0.0</td>\n      <td>0.0</td>\n      <td>0.0</td>\n      <td>0.0</td>\n      <td>0.0</td>\n      <td>0.0</td>\n    </tr>\n    <tr>\n      <th>3</th>\n      <td>0.0</td>\n      <td>0.0</td>\n      <td>0.0</td>\n      <td>0.0</td>\n      <td>0.0</td>\n      <td>0.0</td>\n      <td>0.0</td>\n      <td>0.0</td>\n      <td>0.0</td>\n      <td>0.0</td>\n      <td>...</td>\n      <td>0.0</td>\n      <td>0.0</td>\n      <td>0.0</td>\n      <td>0.0</td>\n      <td>0.0</td>\n      <td>0.0</td>\n      <td>0.0</td>\n      <td>0.0</td>\n      <td>0.0</td>\n      <td>0.0</td>\n    </tr>\n    <tr>\n      <th>4</th>\n      <td>0.0</td>\n      <td>0.0</td>\n      <td>0.0</td>\n      <td>0.0</td>\n      <td>0.0</td>\n      <td>0.0</td>\n      <td>0.0</td>\n      <td>0.0</td>\n      <td>0.0</td>\n      <td>0.0</td>\n      <td>...</td>\n      <td>0.0</td>\n      <td>0.0</td>\n      <td>0.0</td>\n      <td>0.0</td>\n      <td>0.0</td>\n      <td>0.0</td>\n      <td>0.0</td>\n      <td>0.0</td>\n      <td>0.0</td>\n      <td>0.0</td>\n    </tr>\n    <tr>\n      <th>...</th>\n      <td>...</td>\n      <td>...</td>\n      <td>...</td>\n      <td>...</td>\n      <td>...</td>\n      <td>...</td>\n      <td>...</td>\n      <td>...</td>\n      <td>...</td>\n      <td>...</td>\n      <td>...</td>\n      <td>...</td>\n      <td>...</td>\n      <td>...</td>\n      <td>...</td>\n      <td>...</td>\n      <td>...</td>\n      <td>...</td>\n      <td>...</td>\n      <td>...</td>\n      <td>...</td>\n    </tr>\n    <tr>\n      <th>9765</th>\n      <td>0.0</td>\n      <td>0.0</td>\n      <td>0.0</td>\n      <td>0.0</td>\n      <td>0.0</td>\n      <td>0.0</td>\n      <td>0.0</td>\n      <td>0.0</td>\n      <td>0.0</td>\n      <td>0.0</td>\n      <td>...</td>\n      <td>0.0</td>\n      <td>0.0</td>\n      <td>0.0</td>\n      <td>0.0</td>\n      <td>0.0</td>\n      <td>0.0</td>\n      <td>0.0</td>\n      <td>0.0</td>\n      <td>0.0</td>\n      <td>0.0</td>\n    </tr>\n    <tr>\n      <th>9766</th>\n      <td>0.0</td>\n      <td>0.0</td>\n      <td>0.0</td>\n      <td>0.0</td>\n      <td>0.0</td>\n      <td>0.0</td>\n      <td>0.0</td>\n      <td>0.0</td>\n      <td>0.0</td>\n      <td>0.0</td>\n      <td>...</td>\n      <td>0.0</td>\n      <td>0.0</td>\n      <td>0.0</td>\n      <td>0.0</td>\n      <td>0.0</td>\n      <td>0.0</td>\n      <td>0.0</td>\n      <td>0.0</td>\n      <td>0.0</td>\n      <td>0.0</td>\n    </tr>\n    <tr>\n      <th>9767</th>\n      <td>0.0</td>\n      <td>0.0</td>\n      <td>0.0</td>\n      <td>0.0</td>\n      <td>0.0</td>\n      <td>0.0</td>\n      <td>0.0</td>\n      <td>0.0</td>\n      <td>0.0</td>\n      <td>0.0</td>\n      <td>...</td>\n      <td>0.0</td>\n      <td>0.0</td>\n      <td>0.0</td>\n      <td>0.0</td>\n      <td>0.0</td>\n      <td>0.0</td>\n      <td>0.0</td>\n      <td>0.0</td>\n      <td>0.0</td>\n      <td>0.0</td>\n    </tr>\n    <tr>\n      <th>9768</th>\n      <td>0.0</td>\n      <td>0.0</td>\n      <td>0.0</td>\n      <td>0.0</td>\n      <td>0.0</td>\n      <td>0.0</td>\n      <td>0.0</td>\n      <td>0.0</td>\n      <td>0.0</td>\n      <td>0.0</td>\n      <td>...</td>\n      <td>0.0</td>\n      <td>0.0</td>\n      <td>0.0</td>\n      <td>0.0</td>\n      <td>0.0</td>\n      <td>0.0</td>\n      <td>0.0</td>\n      <td>0.0</td>\n      <td>0.0</td>\n      <td>0.0</td>\n    </tr>\n    <tr>\n      <th>9769</th>\n      <td>0.0</td>\n      <td>0.0</td>\n      <td>0.0</td>\n      <td>0.0</td>\n      <td>0.0</td>\n      <td>0.0</td>\n      <td>0.0</td>\n      <td>0.0</td>\n      <td>0.0</td>\n      <td>0.0</td>\n      <td>...</td>\n      <td>0.0</td>\n      <td>0.0</td>\n      <td>0.0</td>\n      <td>0.0</td>\n      <td>0.0</td>\n      <td>0.0</td>\n      <td>0.0</td>\n      <td>0.0</td>\n      <td>0.0</td>\n      <td>0.0</td>\n    </tr>\n  </tbody>\n</table>\n<p>9770 rows × 25993 columns</p>\n</div>"
     },
     "execution_count": 59,
     "metadata": {},
     "output_type": "execute_result"
    }
   ],
   "source": [
    "vectorisation_df = pd.DataFrame(X.toarray())\n",
    "vectorisation_df"
   ],
   "metadata": {
    "collapsed": false,
    "ExecuteTime": {
     "end_time": "2024-02-29T09:56:11.638477Z",
     "start_time": "2024-02-29T09:56:11.238586Z"
    }
   },
   "id": "582e1c363a15dfa0",
   "execution_count": 59
  },
  {
   "cell_type": "code",
   "outputs": [
    {
     "data": {
      "text/plain": "9770"
     },
     "execution_count": 66,
     "metadata": {},
     "output_type": "execute_result"
    }
   ],
   "source": [
    "vocab_size = vectorisation_df.shape[0]\n",
    "vocab_size"
   ],
   "metadata": {
    "collapsed": false,
    "ExecuteTime": {
     "end_time": "2024-02-29T09:58:03.207503Z",
     "start_time": "2024-02-29T09:58:03.202822Z"
    }
   },
   "id": "e5611ef4e2803317",
   "execution_count": 66
  },
  {
   "cell_type": "code",
   "outputs": [],
   "source": [
    "from tensorflow.keras.callbacks import EarlyStopping\n",
    "\n",
    "model = Sequential()\n",
    "model.add(Embedding(input_dim=vocab_size, output_dim=16)) \n",
    "model.add(LSTM(16))  \n",
    "model.add(Dense(6, activation='softmax')) \n",
    "\n",
    "\n",
    "# Define early stopping\n",
    "early_stopping = EarlyStopping(monitor='val_loss', patience=3)\n",
    "\n",
    "\n",
    "model.compile(optimizer='sgd', loss='binary_crossentropy',\n",
    "              metrics=['accuracy'])  # Use 'categorical_crossentropy' for multi-class classification"
   ],
   "metadata": {
    "collapsed": false,
    "ExecuteTime": {
     "end_time": "2024-02-29T09:58:04.059983Z",
     "start_time": "2024-02-29T09:58:03.974400Z"
    }
   },
   "id": "8d83536d29168473",
   "execution_count": 67
  },
  {
   "cell_type": "code",
   "outputs": [],
   "source": [
    "# Split the data\n",
    "X_train, X_test, y_train, y_test = train_test_split(vectorisation_df, df['reviews.rating'], test_size=0.2, random_state=42)"
   ],
   "metadata": {
    "collapsed": false,
    "ExecuteTime": {
     "end_time": "2024-02-29T09:58:06.081884Z",
     "start_time": "2024-02-29T09:58:05.099881Z"
    }
   },
   "id": "c8ccaf8eab94e939",
   "execution_count": 68
  },
  {
   "cell_type": "code",
   "outputs": [],
   "source": [
    "from tensorflow.keras.utils import to_categorical\n",
    "\n",
    "# Convert labels to categorical\n",
    "y_train = to_categorical(y_train)\n",
    "y_test = to_categorical(y_test)"
   ],
   "metadata": {
    "collapsed": false,
    "ExecuteTime": {
     "end_time": "2024-02-29T09:58:07.628345Z",
     "start_time": "2024-02-29T09:58:07.622570Z"
    }
   },
   "id": "a6c4a79257917a66",
   "execution_count": 69
  },
  {
   "cell_type": "code",
   "outputs": [
    {
     "name": "stdout",
     "output_type": "stream",
     "text": [
      "Epoch 1/5\n",
      " 78/123 [==================>...........] - ETA: 12:43 - loss: 0.6653 - accuracy: 0.3988"
     ]
    }
   ],
   "source": [
    "# Train the model\n",
    "history = model.fit(X_train, y_train, batch_size=64, epochs=5, validation_data=(X_test, y_test))"
   ],
   "metadata": {
    "collapsed": false,
    "is_executing": true,
    "ExecuteTime": {
     "start_time": "2024-02-29T09:58:08.283780Z"
    }
   },
   "id": "8849469980703cac",
   "execution_count": null
  },
  {
   "cell_type": "code",
   "outputs": [],
   "source": [
    "from matplotlib import pyplot as plt\n",
    "\n",
    "# Generate generalization metrics\n",
    "score = model.evaluate(X_test, y_test, verbose=0)\n",
    "print(f'Test loss: {score} / Test accuracy: {score}')\n",
    "\n",
    "# Visualize history\n",
    "# Plot history: Loss\n",
    "plt.plot(history.history['val_loss'])\n",
    "plt.title('Validation loss history')\n",
    "plt.ylabel('Loss value')\n",
    "plt.xlabel('No. epoch')\n",
    "plt.show()\n",
    "\n",
    "# Plot history: Accuracy\n",
    "plt.plot(history.history['val_accuracy'])\n",
    "plt.title('Validation accuracy history')\n",
    "plt.ylabel('Accuracy value (%)')\n",
    "plt.xlabel('No. epoch')\n",
    "plt.show()"
   ],
   "metadata": {
    "collapsed": false
   },
   "id": "7957faa41580e9f6"
  }
 ],
 "metadata": {
  "kernelspec": {
   "display_name": "Python 3",
   "language": "python",
   "name": "python3"
  },
  "language_info": {
   "codemirror_mode": {
    "name": "ipython",
    "version": 2
   },
   "file_extension": ".py",
   "mimetype": "text/x-python",
   "name": "python",
   "nbconvert_exporter": "python",
   "pygments_lexer": "ipython2",
   "version": "2.7.6"
  }
 },
 "nbformat": 4,
 "nbformat_minor": 5
}
